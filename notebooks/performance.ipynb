{
 "cells": [
  {
   "cell_type": "code",
   "execution_count": 1,
   "metadata": {
    "ExecuteTime": {
     "end_time": "2023-05-05T10:15:50.048273105Z",
     "start_time": "2023-05-05T10:15:49.795603717Z"
    }
   },
   "outputs": [],
   "source": [
    "from PartSegCore_compiled_backend.fast_unique import label_unique\n",
    "import numpy as np\n",
    "import pandas as pd"
   ]
  },
  {
   "cell_type": "code",
   "execution_count": 2,
   "metadata": {
    "ExecuteTime": {
     "end_time": "2023-05-05T10:15:50.450479646Z",
     "start_time": "2023-05-05T10:15:50.316873641Z"
    }
   },
   "outputs": [],
   "source": [
    "data = np.random.randint(0, 100, (1000, 1000), dtype=np.uint8)\n",
    "data1 = np.random.randint(0, 100, (1000, 1000), dtype=np.uint16)\n",
    "data2 = np.random.randint(0, 5, (1000, 1000), dtype=np.uint8)\n",
    "data3 = np.random.randint(0, 100, (10, 1000, 1000), dtype=np.uint8)\n",
    "data4 = np.random.randint(0, 5, (10, 1000, 1000), dtype=np.uint8)\n",
    "data5 = np.zeros((1000, 1000), dtype=np.uint8)\n",
    "data5[20:200, 30:100] = 1\n",
    "data5[320:500, 30:100] = 2\n",
    "data5[20:200, 230:4100] = 180\n",
    "data6 = np.zeros((30, 1000, 1000), dtype=np.uint8)\n",
    "\n",
    "data6[:, 320:500, 30:100] = 2\n",
    "data6[:, 20:200, 230:4100] = 200\n",
    "\n",
    "data7 = data6[:, ::2, ::2]\n",
    "data8 = data6[:, 5:-5, 5:-5]"
   ]
  },
  {
   "cell_type": "code",
   "execution_count": 3,
   "metadata": {
    "ExecuteTime": {
     "start_time": "2023-05-05T10:15:50.851456480Z"
    },
    "is_executing": true
   },
   "outputs": [
    {
     "name": "stdout",
     "output_type": "stream",
     "text": [
      "31.1 ms ± 401 µs per loop (mean ± std. dev. of 7 runs, 10 loops each)\n",
      "The slowest run took 14.09 times longer than the fastest. This could mean that an intermediate result is being cached.\n",
      "11.9 ms ± 9.52 ms per loop (mean ± std. dev. of 7 runs, 10 loops each)\n",
      "3.57 ms ± 172 µs per loop (mean ± std. dev. of 7 runs, 100 loops each)\n"
     ]
    }
   ],
   "source": [
    "%timeit np.unique(data)\n",
    "%timeit label_unique(data, numpy_fallback=False)\n",
    "%timeit pd.unique(data.ravel())"
   ]
  },
  {
   "cell_type": "code",
   "execution_count": 4,
   "metadata": {
    "is_executing": true
   },
   "outputs": [
    {
     "name": "stdout",
     "output_type": "stream",
     "text": [
      "29.7 ms ± 238 µs per loop (mean ± std. dev. of 7 runs, 10 loops each)\n",
      "The slowest run took 4.39 times longer than the fastest. This could mean that an intermediate result is being cached.\n",
      "13.7 ms ± 6.94 ms per loop (mean ± std. dev. of 7 runs, 10 loops each)\n",
      "4.09 ms ± 232 µs per loop (mean ± std. dev. of 7 runs, 100 loops each)\n"
     ]
    }
   ],
   "source": [
    "%timeit np.unique(data1)\n",
    "%timeit label_unique(data1, numpy_fallback=False)\n",
    "%timeit pd.unique(data1.ravel())"
   ]
  },
  {
   "cell_type": "code",
   "execution_count": 5,
   "metadata": {},
   "outputs": [
    {
     "name": "stdout",
     "output_type": "stream",
     "text": [
      "19.7 ms ± 214 µs per loop (mean ± std. dev. of 7 runs, 100 loops each)\n",
      "The slowest run took 8.13 times longer than the fastest. This could mean that an intermediate result is being cached.\n",
      "4.92 ms ± 5.03 ms per loop (mean ± std. dev. of 7 runs, 100 loops each)\n",
      "3.23 ms ± 69.9 µs per loop (mean ± std. dev. of 7 runs, 100 loops each)\n"
     ]
    }
   ],
   "source": [
    "%timeit np.unique(data2)\n",
    "%timeit label_unique(data2, numpy_fallback=False)\n",
    "%timeit pd.unique(data2.ravel())"
   ]
  },
  {
   "cell_type": "code",
   "execution_count": null,
   "metadata": {},
   "outputs": [
    {
     "name": "stdout",
     "output_type": "stream",
     "text": [
      "307 ms ± 2.15 ms per loop (mean ± std. dev. of 7 runs, 1 loop each)\n",
      "21.7 ms ± 1.41 ms per loop (mean ± std. dev. of 7 runs, 100 loops each)\n"
     ]
    }
   ],
   "source": [
    "%timeit np.unique(data3)\n",
    "%timeit label_unique(data3, numpy_fallback=False)\n",
    "%timeit pd.unique(data3.ravel())"
   ]
  },
  {
   "cell_type": "code",
   "execution_count": null,
   "metadata": {},
   "outputs": [],
   "source": [
    "%timeit np.unique(data4)\n",
    "%timeit label_unique(data4, numpy_fallback=False)\n",
    "%timeit pd.unique(data4.ravel())"
   ]
  },
  {
   "cell_type": "code",
   "execution_count": null,
   "metadata": {},
   "outputs": [],
   "source": [
    "%timeit np.unique(data5)\n",
    "%timeit label_unique(data5, numpy_fallback=False)\n",
    "%timeit pd.unique(data5.ravel())"
   ]
  },
  {
   "cell_type": "code",
   "execution_count": null,
   "metadata": {},
   "outputs": [],
   "source": [
    "print(label_unique(data5, numpy_fallback=False))\n",
    "print(np.unique(data5))\n",
    "print(pd.unique(data5.ravel()))"
   ]
  },
  {
   "cell_type": "code",
   "execution_count": null,
   "metadata": {},
   "outputs": [],
   "source": [
    "%timeit label_unique(data6, numpy_fallback=False)\n",
    "%timeit np.unique(data6)\n",
    "%timeit pd.unique(data6.ravel())"
   ]
  },
  {
   "cell_type": "code",
   "execution_count": null,
   "metadata": {},
   "outputs": [],
   "source": [
    "print(label_unique(data6, numpy_fallback=False))\n",
    "print(np.unique(data6))\n",
    "print(pd.unique(data6.ravel()))"
   ]
  },
  {
   "cell_type": "code",
   "execution_count": null,
   "metadata": {},
   "outputs": [],
   "source": [
    "%timeit label_unique(data7, numpy_fallback=False)\n",
    "%timeit np.unique(data7)\n",
    "%timeit pd.unique(data7.ravel())"
   ]
  },
  {
   "cell_type": "code",
   "execution_count": null,
   "metadata": {},
   "outputs": [],
   "source": [
    "print(label_unique(data7, numpy_fallback=False))\n",
    "print(np.unique(data7))\n",
    "print(pd.unique(data7.ravel()))"
   ]
  },
  {
   "cell_type": "code",
   "execution_count": null,
   "metadata": {},
   "outputs": [],
   "source": [
    "%timeit label_unique(data8, numpy_fallback=False)\n",
    "%timeit np.unique(data8)\n",
    "%timeit pd.unique(data8.ravel())"
   ]
  },
  {
   "cell_type": "code",
   "execution_count": null,
   "metadata": {},
   "outputs": [],
   "source": [
    "print(label_unique(data8, numpy_fallback=False))\n",
    "print(np.unique(data8))\n",
    "print(pd.unique(data8.ravel()))"
   ]
  }
 ],
 "metadata": {
  "kernelspec": {
   "display_name": "Python 3 (ipykernel)",
   "language": "python",
   "name": "python3"
  },
  "language_info": {
   "codemirror_mode": {
    "name": "ipython",
    "version": 3
   },
   "file_extension": ".py",
   "mimetype": "text/x-python",
   "name": "python",
   "nbconvert_exporter": "python",
   "pygments_lexer": "ipython3",
   "version": "3.11.5"
  }
 },
 "nbformat": 4,
 "nbformat_minor": 4
}
