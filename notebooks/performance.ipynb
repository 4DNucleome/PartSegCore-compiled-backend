{
 "cells": [
  {
   "cell_type": "code",
   "execution_count": 1,
   "outputs": [],
   "source": [
    "from PartSegCore_compiled_backend.fast_unique import label_unique\n",
    "import numpy as np\n",
    "import pandas as pd"
   ],
   "metadata": {
    "collapsed": false,
    "ExecuteTime": {
     "end_time": "2023-05-05T08:56:14.260813921Z",
     "start_time": "2023-05-05T08:56:13.994785972Z"
    }
   }
  },
  {
   "cell_type": "code",
   "execution_count": 2,
   "outputs": [],
   "source": [
    "data = np.random.randint(0, 100, (1000, 1000), dtype=np.uint8)\n",
    "data1 = np.random.randint(0, 100, (1000, 1000), dtype=np.uint16)\n",
    "data2 = np.random.randint(0, 5, (1000, 1000), dtype=np.uint8)\n",
    "data3 = np.random.randint(0, 100, (10, 1000, 1000), dtype=np.uint8)\n",
    "data4 = np.random.randint(0, 5, (10, 1000, 1000), dtype=np.uint8)\n",
    "data5 = np.zeros((1000, 1000), dtype=np.uint8)\n",
    "data5[20:200, 30:100] = 1\n",
    "data5[320:500, 30:100] = 2\n",
    "data5[20:200, 230:4100] = 180\n",
    "data6 = np.zeros((30, 1000, 1000), dtype=np.uint8)\n",
    "data6[:, 20:200, 30:100] = 1\n",
    "data6[:, 320:500, 30:100] = 2\n",
    "data6[:, 20:200, 230:4100] = 200"
   ],
   "metadata": {
    "collapsed": false,
    "ExecuteTime": {
     "end_time": "2023-05-05T08:56:14.455992050Z",
     "start_time": "2023-05-05T08:56:14.264613661Z"
    }
   }
  },
  {
   "cell_type": "code",
   "execution_count": 3,
   "outputs": [
    {
     "name": "stdout",
     "output_type": "stream",
     "text": [
      "26.9 ms ± 407 µs per loop (mean ± std. dev. of 7 runs, 10 loops each)\n",
      "4.81 ms ± 2.3 ms per loop (mean ± std. dev. of 7 runs, 100 loops each)\n",
      "3.14 ms ± 67.6 µs per loop (mean ± std. dev. of 7 runs, 100 loops each)\n"
     ]
    }
   ],
   "source": [
    "%timeit np.unique(data)\n",
    "%timeit label_unique(data, numpy_fallback=False)\n",
    "%timeit pd.unique(data.ravel())"
   ],
   "metadata": {
    "collapsed": false,
    "ExecuteTime": {
     "end_time": "2023-05-05T08:56:22.877513440Z",
     "start_time": "2023-05-05T08:56:14.404649457Z"
    }
   }
  },
  {
   "cell_type": "code",
   "execution_count": 4,
   "outputs": [
    {
     "name": "stdout",
     "output_type": "stream",
     "text": [
      "30.5 ms ± 343 µs per loop (mean ± std. dev. of 7 runs, 10 loops each)\n",
      "5.77 ms ± 3.19 ms per loop (mean ± std. dev. of 7 runs, 100 loops each)\n",
      "3.3 ms ± 103 µs per loop (mean ± std. dev. of 7 runs, 100 loops each)\n"
     ]
    }
   ],
   "source": [
    "%timeit np.unique(data1)\n",
    "%timeit label_unique(data1, numpy_fallback=False)\n",
    "%timeit pd.unique(data1.ravel())"
   ],
   "metadata": {
    "collapsed": false,
    "ExecuteTime": {
     "end_time": "2023-05-05T08:56:33.119441397Z",
     "start_time": "2023-05-05T08:56:22.880722685Z"
    }
   }
  },
  {
   "cell_type": "code",
   "execution_count": 5,
   "outputs": [
    {
     "name": "stdout",
     "output_type": "stream",
     "text": [
      "15 ms ± 159 µs per loop (mean ± std. dev. of 7 runs, 100 loops each)\n",
      "6.33 ms ± 2.25 ms per loop (mean ± std. dev. of 7 runs, 100 loops each)\n",
      "3.42 ms ± 242 µs per loop (mean ± std. dev. of 7 runs, 100 loops each)\n"
     ]
    }
   ],
   "source": [
    "%timeit np.unique(data2)\n",
    "%timeit label_unique(data2, numpy_fallback=False)\n",
    "%timeit pd.unique(data2.ravel())"
   ],
   "metadata": {
    "collapsed": false,
    "ExecuteTime": {
     "end_time": "2023-05-05T08:56:53.096560120Z",
     "start_time": "2023-05-05T08:56:33.123419671Z"
    }
   }
  },
  {
   "cell_type": "code",
   "execution_count": 6,
   "outputs": [
    {
     "name": "stdout",
     "output_type": "stream",
     "text": [
      "279 ms ± 5.74 ms per loop (mean ± std. dev. of 7 runs, 1 loop each)\n",
      "30.1 ms ± 4.64 ms per loop (mean ± std. dev. of 7 runs, 10 loops each)\n",
      "32.6 ms ± 1.77 ms per loop (mean ± std. dev. of 7 runs, 10 loops each)\n"
     ]
    }
   ],
   "source": [
    "%timeit np.unique(data3)\n",
    "%timeit label_unique(data3, numpy_fallback=False)\n",
    "%timeit pd.unique(data3.ravel())"
   ],
   "metadata": {
    "collapsed": false,
    "ExecuteTime": {
     "end_time": "2023-05-05T08:57:00.511900369Z",
     "start_time": "2023-05-05T08:56:53.100979314Z"
    }
   }
  },
  {
   "cell_type": "code",
   "execution_count": 7,
   "outputs": [
    {
     "name": "stdout",
     "output_type": "stream",
     "text": [
      "163 ms ± 1.13 ms per loop (mean ± std. dev. of 7 runs, 10 loops each)\n",
      "27.6 ms ± 6.19 ms per loop (mean ± std. dev. of 7 runs, 10 loops each)\n",
      "30.5 ms ± 447 µs per loop (mean ± std. dev. of 7 runs, 10 loops each)\n"
     ]
    }
   ],
   "source": [
    "%timeit np.unique(data4)\n",
    "%timeit label_unique(data4, numpy_fallback=False)\n",
    "%timeit pd.unique(data4.ravel())"
   ],
   "metadata": {
    "collapsed": false,
    "ExecuteTime": {
     "end_time": "2023-05-05T08:57:18.597337321Z",
     "start_time": "2023-05-05T08:57:00.514185614Z"
    }
   }
  },
  {
   "cell_type": "code",
   "execution_count": 8,
   "outputs": [
    {
     "name": "stdout",
     "output_type": "stream",
     "text": [
      "7.4 ms ± 113 µs per loop (mean ± std. dev. of 7 runs, 100 loops each)\n",
      "The slowest run took 4.54 times longer than the fastest. This could mean that an intermediate result is being cached.\n",
      "1.59 ms ± 863 µs per loop (mean ± std. dev. of 7 runs, 1,000 loops each)\n",
      "3.15 ms ± 97.7 µs per loop (mean ± std. dev. of 7 runs, 100 loops each)\n"
     ]
    }
   ],
   "source": [
    "%timeit np.unique(data5)\n",
    "%timeit label_unique(data5, numpy_fallback=False)\n",
    "%timeit pd.unique(data5.ravel())"
   ],
   "metadata": {
    "collapsed": false,
    "ExecuteTime": {
     "end_time": "2023-05-05T08:57:40.130367180Z",
     "start_time": "2023-05-05T08:57:18.602520583Z"
    }
   }
  },
  {
   "cell_type": "code",
   "execution_count": 9,
   "outputs": [
    {
     "name": "stdout",
     "output_type": "stream",
     "text": [
      "[  0   1   2 180]\n",
      "[  0   1   2 180]\n",
      "[  0   1 180   2]\n"
     ]
    }
   ],
   "source": [
    "print(label_unique(data5, numpy_fallback=False))\n",
    "print(np.unique(data5))\n",
    "print(pd.unique(data5.ravel()))"
   ],
   "metadata": {
    "collapsed": false,
    "ExecuteTime": {
     "end_time": "2023-05-05T08:57:40.187249065Z",
     "start_time": "2023-05-05T08:57:40.139179516Z"
    }
   }
  },
  {
   "cell_type": "code",
   "execution_count": 10,
   "outputs": [
    {
     "name": "stdout",
     "output_type": "stream",
     "text": [
      "21.7 ms ± 6.34 ms per loop (mean ± std. dev. of 7 runs, 10 loops each)\n",
      "307 ms ± 33.8 ms per loop (mean ± std. dev. of 7 runs, 1 loop each)\n",
      "92.3 ms ± 1.14 ms per loop (mean ± std. dev. of 7 runs, 10 loops each)\n"
     ]
    }
   ],
   "source": [
    "%timeit label_unique(data6, numpy_fallback=False)\n",
    "%timeit np.unique(data6)\n",
    "%timeit pd.unique(data6.ravel())"
   ],
   "metadata": {
    "collapsed": false,
    "ExecuteTime": {
     "end_time": "2023-05-05T08:57:51.946585884Z",
     "start_time": "2023-05-05T08:57:40.177617638Z"
    }
   }
  },
  {
   "cell_type": "code",
   "execution_count": 11,
   "outputs": [
    {
     "name": "stdout",
     "output_type": "stream",
     "text": [
      "[  0   1   2 200]\n",
      "[  0   1   2 200]\n",
      "[  0   1 200   2]\n"
     ]
    }
   ],
   "source": [
    "print(label_unique(data6, numpy_fallback=False))\n",
    "print(np.unique(data6))\n",
    "print(pd.unique(data6.ravel()))"
   ],
   "metadata": {
    "collapsed": false,
    "ExecuteTime": {
     "end_time": "2023-05-05T08:57:52.384707747Z",
     "start_time": "2023-05-05T08:57:51.959656845Z"
    }
   }
  },
  {
   "cell_type": "code",
   "execution_count": 11,
   "outputs": [],
   "source": [],
   "metadata": {
    "collapsed": false,
    "ExecuteTime": {
     "end_time": "2023-05-05T08:57:52.388796764Z",
     "start_time": "2023-05-05T08:57:52.387188620Z"
    }
   }
  }
 ],
 "metadata": {
  "kernelspec": {
   "display_name": "Python 3",
   "language": "python",
   "name": "python3"
  },
  "language_info": {
   "codemirror_mode": {
    "name": "ipython",
    "version": 2
   },
   "file_extension": ".py",
   "mimetype": "text/x-python",
   "name": "python",
   "nbconvert_exporter": "python",
   "pygments_lexer": "ipython2",
   "version": "2.7.6"
  }
 },
 "nbformat": 4,
 "nbformat_minor": 0
}
