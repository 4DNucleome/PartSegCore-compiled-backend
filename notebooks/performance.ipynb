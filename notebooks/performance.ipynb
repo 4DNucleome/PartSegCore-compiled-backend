{
 "cells": [
  {
   "cell_type": "code",
   "execution_count": 1,
   "outputs": [],
   "source": [
    "from PartSegCore_compiled_backend.fast_unique import label_unique\n",
    "import numpy as np"
   ],
   "metadata": {
    "collapsed": false,
    "ExecuteTime": {
     "start_time": "2023-04-18T01:32:32.016027Z",
     "end_time": "2023-04-18T01:32:32.135218Z"
    }
   }
  },
  {
   "cell_type": "code",
   "execution_count": 2,
   "outputs": [],
   "source": [
    "data = np.random.randint(0, 100, (1000, 1000), dtype=np.uint8)\n",
    "data1 = np.random.randint(0, 100, (1000, 1000), dtype=np.uint16)\n",
    "data2 = np.random.randint(0, 5, (1000, 1000), dtype=np.uint8)\n",
    "data3 = np.random.randint(0, 100, (10, 1000, 1000), dtype=np.uint8)\n",
    "data4 = np.random.randint(0, 5, (10, 1000, 1000), dtype=np.uint8)\n",
    "data5 = np.zeros((1000, 1000), dtype=np.uint8)\n",
    "data5[20:200, 30:100] = 1\n",
    "data5[320:500, 30:100] = 2\n",
    "data5[20:200, 230:4100] = 180\n",
    "data6 = np.zeros((30, 1000, 1000), dtype=np.uint8)\n",
    "data6[:, 20:200, 30:100] = 1\n",
    "data6[:, 320:500, 30:100] = 2\n",
    "data6[:, 20:200, 230:4100] = 200"
   ],
   "metadata": {
    "collapsed": false,
    "ExecuteTime": {
     "start_time": "2023-04-18T01:32:32.141149Z",
     "end_time": "2023-04-18T01:32:32.268336Z"
    }
   }
  },
  {
   "cell_type": "code",
   "execution_count": 3,
   "outputs": [
    {
     "name": "stdout",
     "output_type": "stream",
     "text": [
      "26.8 ms ± 316 µs per loop (mean ± std. dev. of 7 runs, 10 loops each)\n",
      "3.33 ms ± 1.92 ms per loop (mean ± std. dev. of 7 runs, 100 loops each)\n"
     ]
    }
   ],
   "source": [
    "%timeit np.unique(data)\n",
    "%timeit label_unique(data, numpy_fallback=False)"
   ],
   "metadata": {
    "collapsed": false,
    "ExecuteTime": {
     "start_time": "2023-04-18T01:32:32.272909Z",
     "end_time": "2023-04-18T01:32:37.053870Z"
    }
   }
  },
  {
   "cell_type": "code",
   "execution_count": 4,
   "outputs": [
    {
     "name": "stdout",
     "output_type": "stream",
     "text": [
      "33.1 ms ± 1.28 ms per loop (mean ± std. dev. of 7 runs, 10 loops each)\n",
      "49 ms ± 3.21 ms per loop (mean ± std. dev. of 7 runs, 10 loops each)\n"
     ]
    }
   ],
   "source": [
    "%timeit np.unique(data1)\n",
    "%timeit label_unique(data1, numpy_fallback=False)"
   ],
   "metadata": {
    "collapsed": false,
    "ExecuteTime": {
     "start_time": "2023-04-18T01:32:37.051351Z",
     "end_time": "2023-04-18T01:32:43.788595Z"
    }
   }
  },
  {
   "cell_type": "code",
   "execution_count": 5,
   "outputs": [
    {
     "name": "stdout",
     "output_type": "stream",
     "text": [
      "14.9 ms ± 252 µs per loop (mean ± std. dev. of 7 runs, 100 loops each)\n",
      "2.08 ms ± 149 µs per loop (mean ± std. dev. of 7 runs, 1,000 loops each)\n"
     ]
    }
   ],
   "source": [
    "%timeit np.unique(data2)\n",
    "%timeit label_unique(data2, numpy_fallback=False)"
   ],
   "metadata": {
    "collapsed": false,
    "ExecuteTime": {
     "start_time": "2023-04-18T01:32:43.792654Z",
     "end_time": "2023-04-18T01:33:13.432813Z"
    }
   }
  },
  {
   "cell_type": "code",
   "execution_count": 6,
   "outputs": [
    {
     "name": "stdout",
     "output_type": "stream",
     "text": [
      "262 ms ± 919 µs per loop (mean ± std. dev. of 7 runs, 1 loop each)\n",
      "22.6 ms ± 1.67 ms per loop (mean ± std. dev. of 7 runs, 10 loops each)\n"
     ]
    }
   ],
   "source": [
    "%timeit np.unique(data3)\n",
    "%timeit label_unique(data3, numpy_fallback=False)"
   ],
   "metadata": {
    "collapsed": false,
    "ExecuteTime": {
     "start_time": "2023-04-18T01:33:13.431035Z",
     "end_time": "2023-04-18T01:33:17.351581Z"
    }
   }
  },
  {
   "cell_type": "code",
   "execution_count": 7,
   "outputs": [
    {
     "name": "stdout",
     "output_type": "stream",
     "text": [
      "162 ms ± 1.77 ms per loop (mean ± std. dev. of 7 runs, 10 loops each)\n",
      "20.6 ms ± 1.69 ms per loop (mean ± std. dev. of 7 runs, 100 loops each)\n"
     ]
    }
   ],
   "source": [
    "%timeit np.unique(data4)\n",
    "%timeit label_unique(data4, numpy_fallback=False)"
   ],
   "metadata": {
    "collapsed": false,
    "ExecuteTime": {
     "start_time": "2023-04-18T01:33:17.351473Z",
     "end_time": "2023-04-18T01:33:47.036250Z"
    }
   }
  },
  {
   "cell_type": "code",
   "execution_count": 8,
   "outputs": [
    {
     "name": "stdout",
     "output_type": "stream",
     "text": [
      "7.16 ms ± 30.9 µs per loop (mean ± std. dev. of 7 runs, 100 loops each)\n",
      "The slowest run took 7.90 times longer than the fastest. This could mean that an intermediate result is being cached.\n",
      "876 µs ± 925 µs per loop (mean ± std. dev. of 7 runs, 1,000 loops each)\n"
     ]
    }
   ],
   "source": [
    "%timeit np.unique(data5)\n",
    "%timeit label_unique(data5, numpy_fallback=False)"
   ],
   "metadata": {
    "collapsed": false,
    "ExecuteTime": {
     "start_time": "2023-04-18T01:33:47.034162Z",
     "end_time": "2023-04-18T01:33:59.469518Z"
    }
   }
  },
  {
   "cell_type": "code",
   "execution_count": 9,
   "outputs": [
    {
     "name": "stdout",
     "output_type": "stream",
     "text": [
      "[  0   1   2 180]\n",
      "[  0   1   2 180]\n"
     ]
    }
   ],
   "source": [
    "print(label_unique(data5, numpy_fallback=False))\n",
    "print(np.unique(data5))"
   ],
   "metadata": {
    "collapsed": false,
    "ExecuteTime": {
     "start_time": "2023-04-18T01:33:59.469426Z",
     "end_time": "2023-04-18T01:33:59.487648Z"
    }
   }
  },
  {
   "cell_type": "code",
   "execution_count": 10,
   "outputs": [
    {
     "name": "stdout",
     "output_type": "stream",
     "text": [
      "10.5 ms ± 714 µs per loop (mean ± std. dev. of 7 runs, 100 loops each)\n",
      "278 ms ± 1.08 ms per loop (mean ± std. dev. of 7 runs, 1 loop each)\n"
     ]
    }
   ],
   "source": [
    "%timeit label_unique(data6, numpy_fallback=False)\n",
    "%timeit np.unique(data6)"
   ],
   "metadata": {
    "collapsed": false,
    "ExecuteTime": {
     "start_time": "2023-04-18T01:33:59.488856Z",
     "end_time": "2023-04-18T01:34:10.377197Z"
    }
   }
  },
  {
   "cell_type": "code",
   "execution_count": 11,
   "outputs": [
    {
     "name": "stdout",
     "output_type": "stream",
     "text": [
      "[  0   1   2 200]\n",
      "[  0   1   2 200]\n"
     ]
    }
   ],
   "source": [
    "print(label_unique(data6, numpy_fallback=False))\n",
    "print(np.unique(data6))"
   ],
   "metadata": {
    "collapsed": false,
    "ExecuteTime": {
     "start_time": "2023-04-18T01:34:10.392595Z",
     "end_time": "2023-04-18T01:34:10.692177Z"
    }
   }
  },
  {
   "cell_type": "code",
   "execution_count": 11,
   "outputs": [],
   "source": [],
   "metadata": {
    "collapsed": false,
    "ExecuteTime": {
     "start_time": "2023-04-18T01:34:10.693523Z",
     "end_time": "2023-04-18T01:34:10.695920Z"
    }
   }
  }
 ],
 "metadata": {
  "kernelspec": {
   "display_name": "Python 3",
   "language": "python",
   "name": "python3"
  },
  "language_info": {
   "codemirror_mode": {
    "name": "ipython",
    "version": 2
   },
   "file_extension": ".py",
   "mimetype": "text/x-python",
   "name": "python",
   "nbconvert_exporter": "python",
   "pygments_lexer": "ipython2",
   "version": "2.7.6"
  }
 },
 "nbformat": 4,
 "nbformat_minor": 0
}
